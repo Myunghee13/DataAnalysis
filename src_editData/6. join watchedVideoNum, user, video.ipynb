{
 "cells": [
  {
   "cell_type": "code",
   "execution_count": 1,
   "id": "1b10a602",
   "metadata": {},
   "outputs": [
    {
     "data": {
      "text/plain": [
       "'C:\\\\spark-3.0.3-bin-hadoop2.7'"
      ]
     },
     "execution_count": 1,
     "metadata": {},
     "output_type": "execute_result"
    }
   ],
   "source": [
    "#testing pyspark installation\n",
    "import findspark\n",
    "findspark.init()\n",
    "findspark.find()\n",
    "import pyspark\n",
    "findspark.find()"
   ]
  },
  {
   "cell_type": "code",
   "execution_count": 2,
   "id": "e9126a15",
   "metadata": {},
   "outputs": [],
   "source": [
    "#initiate spark context\n",
    "\n",
    "from pyspark import SparkContext, SparkConf\n",
    "from pyspark.sql import SparkSession\n",
    "conf = pyspark.SparkConf().setAppName('SparkApp').setMaster('local')\n",
    "sc = pyspark.SparkContext(conf=conf)\n",
    "spark = SparkSession.builder.getOrCreate()"
   ]
  },
  {
   "cell_type": "code",
   "execution_count": 3,
   "id": "b6608dcd",
   "metadata": {},
   "outputs": [
    {
     "data": {
      "text/html": [
       "\n",
       "            <div>\n",
       "                <p><b>SparkSession - in-memory</b></p>\n",
       "                \n",
       "        <div>\n",
       "            <p><b>SparkContext</b></p>\n",
       "\n",
       "            <p><a href=\"http://DESKTOP-I8PCBF8:4040\">Spark UI</a></p>\n",
       "\n",
       "            <dl>\n",
       "              <dt>Version</dt>\n",
       "                <dd><code>v3.0.3</code></dd>\n",
       "              <dt>Master</dt>\n",
       "                <dd><code>local</code></dd>\n",
       "              <dt>AppName</dt>\n",
       "                <dd><code>SparkApp</code></dd>\n",
       "            </dl>\n",
       "        </div>\n",
       "        \n",
       "            </div>\n",
       "        "
      ],
      "text/plain": [
       "<pyspark.sql.session.SparkSession at 0x2158493f250>"
      ]
     },
     "execution_count": 3,
     "metadata": {},
     "output_type": "execute_result"
    }
   ],
   "source": [
    "spark"
   ]
  },
  {
   "cell_type": "code",
   "execution_count": 4,
   "id": "47857944",
   "metadata": {},
   "outputs": [],
   "source": [
    "df1 = spark.read.csv('../Dataset_rev/videos_rev.csv', header=True, inferSchema=True)\n",
    "df2 = spark.read.csv('../Dataset_rev/video_numWatched.csv', header=True, inferSchema=True)"
   ]
  },
  {
   "cell_type": "code",
   "execution_count": 5,
   "id": "f581f79b",
   "metadata": {},
   "outputs": [
    {
     "name": "stdout",
     "output_type": "stream",
     "text": [
      "root\n",
      " |-- id: string (nullable = true)\n",
      " |-- attribute_id: string (nullable = true)\n",
      " |-- music_id: string (nullable = true)\n",
      " |-- animation_id: string (nullable = true)\n",
      " |-- duration: double (nullable = true)\n",
      " |-- creator: string (nullable = true)\n",
      " |-- created_at: string (nullable = true)\n",
      " |-- num_shares: integer (nullable = true)\n",
      " |-- game_id: string (nullable = true)\n",
      " |-- is_ar: boolean (nullable = true)\n",
      " |-- user_created_at: string (nullable = true)\n",
      " |-- class: string (nullable = true)\n",
      " |-- user_latitude: double (nullable = true)\n",
      " |-- user_longitude: double (nullable = true)\n",
      " |-- user_city: string (nullable = true)\n",
      " |-- user_state: string (nullable = true)\n",
      " |-- user_country: string (nullable = true)\n",
      "\n"
     ]
    }
   ],
   "source": [
    "df1.printSchema()"
   ]
  },
  {
   "cell_type": "code",
   "execution_count": 6,
   "id": "ea465e08",
   "metadata": {},
   "outputs": [
    {
     "name": "stdout",
     "output_type": "stream",
     "text": [
      "root\n",
      " |-- videoId: string (nullable = true)\n",
      " |-- numWatched: integer (nullable = true)\n",
      "\n"
     ]
    }
   ],
   "source": [
    "df2.printSchema()"
   ]
  },
  {
   "cell_type": "code",
   "execution_count": 7,
   "id": "f8d7d6fe",
   "metadata": {},
   "outputs": [],
   "source": [
    "#left join video and numWatched\n",
    "df3 = df1.join(df2, df1.id == df2.videoId, \"left\")"
   ]
  },
  {
   "cell_type": "code",
   "execution_count": 8,
   "id": "bc0ac953",
   "metadata": {},
   "outputs": [
    {
     "name": "stdout",
     "output_type": "stream",
     "text": [
      "root\n",
      " |-- id: string (nullable = true)\n",
      " |-- attribute_id: string (nullable = true)\n",
      " |-- music_id: string (nullable = true)\n",
      " |-- animation_id: string (nullable = true)\n",
      " |-- duration: double (nullable = true)\n",
      " |-- creator: string (nullable = true)\n",
      " |-- created_at: string (nullable = true)\n",
      " |-- num_shares: integer (nullable = true)\n",
      " |-- game_id: string (nullable = true)\n",
      " |-- is_ar: boolean (nullable = true)\n",
      " |-- user_created_at: string (nullable = true)\n",
      " |-- class: string (nullable = true)\n",
      " |-- user_latitude: double (nullable = true)\n",
      " |-- user_longitude: double (nullable = true)\n",
      " |-- user_city: string (nullable = true)\n",
      " |-- user_state: string (nullable = true)\n",
      " |-- user_country: string (nullable = true)\n",
      " |-- videoId: string (nullable = true)\n",
      " |-- numWatched: integer (nullable = true)\n",
      "\n"
     ]
    }
   ],
   "source": [
    "df3.printSchema()"
   ]
  },
  {
   "cell_type": "code",
   "execution_count": 9,
   "id": "b9465d02",
   "metadata": {},
   "outputs": [],
   "source": [
    "df3.drop(\"videoId\").write.options(header='True', delimiter=',').csv(\"videos_rev2\")"
   ]
  },
  {
   "cell_type": "code",
   "execution_count": 10,
   "id": "e53dca83",
   "metadata": {},
   "outputs": [],
   "source": [
    "df1 = spark.read.csv('../Dataset_rev/users_rev2.csv', header=True, inferSchema=True)\n",
    "df2 = spark.read.csv('../Dataset_rev/user_numWatched.csv', header=True, inferSchema=True)"
   ]
  },
  {
   "cell_type": "code",
   "execution_count": 11,
   "id": "9638b9e4",
   "metadata": {},
   "outputs": [
    {
     "name": "stdout",
     "output_type": "stream",
     "text": [
      "root\n",
      " |-- id: string (nullable = true)\n",
      " |-- user_created_at: string (nullable = true)\n",
      " |-- class: string (nullable = true)\n",
      " |-- user_latitude: double (nullable = true)\n",
      " |-- user_longitude: double (nullable = true)\n",
      " |-- user_city: string (nullable = true)\n",
      " |-- user_state: string (nullable = true)\n",
      " |-- user_country: string (nullable = true)\n",
      " |-- # of videos: integer (nullable = true)\n",
      "\n"
     ]
    }
   ],
   "source": [
    "df1.printSchema()"
   ]
  },
  {
   "cell_type": "code",
   "execution_count": 12,
   "id": "0e8cbba7",
   "metadata": {},
   "outputs": [
    {
     "name": "stdout",
     "output_type": "stream",
     "text": [
      "root\n",
      " |-- userId: string (nullable = true)\n",
      " |-- numWatched: integer (nullable = true)\n",
      "\n"
     ]
    }
   ],
   "source": [
    "df2.printSchema()"
   ]
  },
  {
   "cell_type": "code",
   "execution_count": 13,
   "id": "fbdc8b73",
   "metadata": {},
   "outputs": [],
   "source": [
    "#left join user and numWatched\n",
    "df3 = df1.join(df2, df1.id == df2.userId, \"left\")"
   ]
  },
  {
   "cell_type": "code",
   "execution_count": 14,
   "id": "7a501dca",
   "metadata": {},
   "outputs": [
    {
     "name": "stdout",
     "output_type": "stream",
     "text": [
      "root\n",
      " |-- id: string (nullable = true)\n",
      " |-- user_created_at: string (nullable = true)\n",
      " |-- class: string (nullable = true)\n",
      " |-- user_latitude: double (nullable = true)\n",
      " |-- user_longitude: double (nullable = true)\n",
      " |-- user_city: string (nullable = true)\n",
      " |-- user_state: string (nullable = true)\n",
      " |-- user_country: string (nullable = true)\n",
      " |-- # of videos: integer (nullable = true)\n",
      " |-- userId: string (nullable = true)\n",
      " |-- numWatched: integer (nullable = true)\n",
      "\n"
     ]
    }
   ],
   "source": [
    "df3.printSchema()"
   ]
  },
  {
   "cell_type": "code",
   "execution_count": 15,
   "id": "e8d377a0",
   "metadata": {},
   "outputs": [],
   "source": [
    "df3.drop(\"userId\").write.options(header='True', delimiter=',').csv(\"users_rev3\")"
   ]
  },
  {
   "cell_type": "code",
   "execution_count": 16,
   "id": "960622d0",
   "metadata": {},
   "outputs": [],
   "source": [
    "#stop\n",
    "sc.stop()"
   ]
  },
  {
   "cell_type": "code",
   "execution_count": null,
   "id": "4fb920d8",
   "metadata": {},
   "outputs": [],
   "source": []
  }
 ],
 "metadata": {
  "kernelspec": {
   "display_name": "Python 3",
   "language": "python",
   "name": "python3"
  },
  "language_info": {
   "codemirror_mode": {
    "name": "ipython",
    "version": 3
   },
   "file_extension": ".py",
   "mimetype": "text/x-python",
   "name": "python",
   "nbconvert_exporter": "python",
   "pygments_lexer": "ipython3",
   "version": "3.8.8"
  }
 },
 "nbformat": 4,
 "nbformat_minor": 5
}
